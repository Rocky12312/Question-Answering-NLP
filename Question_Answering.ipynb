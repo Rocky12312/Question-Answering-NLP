{
  "nbformat": 4,
  "nbformat_minor": 0,
  "metadata": {
    "colab": {
      "name": "Question-Answering.ipynb",
      "provenance": [],
      "authorship_tag": "ABX9TyPYxYXRQHEDQb6mdE5KZcXe",
      "include_colab_link": true
    },
    "kernelspec": {
      "name": "python3",
      "display_name": "Python 3"
    }
  },
  "cells": [
    {
      "cell_type": "markdown",
      "metadata": {
        "id": "view-in-github",
        "colab_type": "text"
      },
      "source": [
        "<a href=\"https://colab.research.google.com/github/Rocky12312/Question-Answering-NLP/blob/master/Question_Answering.ipynb\" target=\"_parent\"><img src=\"https://colab.research.google.com/assets/colab-badge.svg\" alt=\"Open In Colab\"/></a>"
      ]
    },
    {
      "cell_type": "code",
      "metadata": {
        "id": "DP3nZAKhzDit",
        "colab_type": "code",
        "outputId": "6aff8b2d-19be-4992-c696-d7544d7f23bb",
        "colab": {
          "base_uri": "https://localhost:8080/",
          "height": 35
        }
      },
      "source": [
        "from google.colab import drive\n",
        "drive.mount(\"/content/drive\")"
      ],
      "execution_count": 1,
      "outputs": [
        {
          "output_type": "stream",
          "text": [
            "Drive already mounted at /content/drive; to attempt to forcibly remount, call drive.mount(\"/content/drive\", force_remount=True).\n"
          ],
          "name": "stdout"
        }
      ]
    },
    {
      "cell_type": "code",
      "metadata": {
        "id": "033DZeFxzNrU",
        "colab_type": "code",
        "outputId": "db0d1fb4-daf2-4e0f-e2e4-61124e99c9a3",
        "colab": {
          "base_uri": "https://localhost:8080/",
          "height": 35
        }
      },
      "source": [
        "cd /content/drive/My\\ Drive/Tweet_sentiment_extraction/tasks_1-20_v1-2"
      ],
      "execution_count": 2,
      "outputs": [
        {
          "output_type": "stream",
          "text": [
            "/content/drive/My Drive/Tweet_sentiment_extraction/tasks_1-20_v1-2\n"
          ],
          "name": "stdout"
        }
      ]
    },
    {
      "cell_type": "code",
      "metadata": {
        "id": "unbBtP1fzpvk",
        "colab_type": "code",
        "colab": {}
      },
      "source": [
        "import re\n",
        "import numpy as np\n",
        "import pandas as pd\n",
        "import matplotlib.pyplot as plt\n",
        "%matplotlib inline"
      ],
      "execution_count": 0,
      "outputs": []
    },
    {
      "cell_type": "markdown",
      "metadata": {
        "id": "7RjgIs5iip4H",
        "colab_type": "text"
      },
      "source": [
        "Data file for this notebook we can also find at https://research.fb.com/downloads/babi and then navigating to HITL Dialogue Simulator there is a file names bAbI Tasks Data 1-20 which contains the data used in this notebook and several other useful data\n",
        "\n",
        "And using the below link we can actually download the data automatically"
      ]
    },
    {
      "cell_type": "code",
      "metadata": {
        "id": "LXXfSHtd0d2Z",
        "colab_type": "code",
        "outputId": "ff4d78fc-a711-43e2-bba8-9f809c51714a",
        "colab": {
          "base_uri": "https://localhost:8080/",
          "height": 35
        }
      },
      "source": [
        "from keras.utils.data_utils import get_file\n",
        "import tarfile\n",
        "#The keras get_file function to just download the data\n",
        "path = get_file(\"babi-tasks-v1-2.tar.gz\",origin = \"https://s3.amazonaws.com/text-datasets/babi_tasks_1-20_v1-2.tar.gz\")\n",
        "#Tarfile libraray just takes care of extraction so no need to do it manually\n",
        "fl = tarfile.open(path)"
      ],
      "execution_count": 4,
      "outputs": [
        {
          "output_type": "stream",
          "text": [
            "Using TensorFlow backend.\n"
          ],
          "name": "stderr"
        }
      ]
    },
    {
      "cell_type": "code",
      "metadata": {
        "id": "ArStlSS03H3N",
        "colab_type": "code",
        "colab": {}
      },
      "source": [
        "#Getting only the relavent data qa1 with 10,000 samples and qa2 with 10,000 samples\n",
        "#Basically this dictionary tell us where the relevan data is\n",
        "challenges = {\"single_supporting_fact_10k\":\"tasks_1-20_v1-2/en-10k/qa1_single-supporting-fact_{}.txt\",\"two_supporting_fact_10k\":\"tasks_1-20_v1-2/en-10k/qa2_two-supporting-fact_{}.txt\"}"
      ],
      "execution_count": 0,
      "outputs": []
    },
    {
      "cell_type": "code",
      "metadata": {
        "id": "iU_jd5KvKpYG",
        "colab_type": "code",
        "colab": {}
      },
      "source": [
        "a = \"single_supporting_fact_10k\"\n",
        "data_fl = challenges[a]\n",
        "stories_train = fl.extractfile(data_fl.format(\"train\"))\n",
        "stories_test = fl.extractfile(data_fl.format(\"test\"))"
      ],
      "execution_count": 0,
      "outputs": []
    },
    {
      "cell_type": "code",
      "metadata": {
        "id": "P-flREu9LkVz",
        "colab_type": "code",
        "colab": {
          "base_uri": "https://localhost:8080/",
          "height": 35
        },
        "outputId": "e3780b82-7040-4031-8e7b-401a9ee89421"
      },
      "source": [
        "type(stories_train)"
      ],
      "execution_count": 7,
      "outputs": [
        {
          "output_type": "execute_result",
          "data": {
            "text/plain": [
              "tarfile.ExFileObject"
            ]
          },
          "metadata": {
            "tags": []
          },
          "execution_count": 7
        }
      ]
    },
    {
      "cell_type": "code",
      "metadata": {
        "id": "xEoB4W7vOmE0",
        "colab_type": "code",
        "colab": {}
      },
      "source": [
        "#Running this we can see what our data looks like\n",
        "#for line in stories_train:\n",
        "  #print(line)"
      ],
      "execution_count": 0,
      "outputs": []
    },
    {
      "cell_type": "code",
      "metadata": {
        "id": "ZwjtrE-E4Kal",
        "colab_type": "code",
        "colab": {}
      },
      "source": [
        "def tokenize(sent):\n",
        "  #Here we will be returning tokens including punctuations\n",
        "  return [x.strip() for x in re.split(\"(\\W+)?\",sent) if x.strip()]"
      ],
      "execution_count": 0,
      "outputs": []
    },
    {
      "cell_type": "markdown",
      "metadata": {
        "id": "V63DoDReWItn",
        "colab_type": "text"
      },
      "source": [
        "Now our main task wil be is to generate three containers from our data file which will contain the questions, answers and the story on whose basis the answer to question should be given and this below get_stories function does this task for us"
      ]
    },
    {
      "cell_type": "code",
      "metadata": {
        "id": "Iu5OYEwuuzpx",
        "colab_type": "code",
        "colab": {}
      },
      "source": [
        "def get_stories(file):\n",
        "  #Here we will be storing the questions,answers and the context in data list\n",
        "  q_a_c_data = []\n",
        "  #Using story list to keep track of the story so far\n",
        "  story = []\n",
        "  printed = False\n",
        "  for line in file:\n",
        "    line = line.decode('utf-8').strip()\n",
        "\n",
        "    #split the line id number number from the rest of the line\n",
        "    lineid,line = line.split(\" \", 1)\n",
        "\n",
        "    #If the value of our line id is one it means that it is start of new story\n",
        "    if int(lineid) == 1:\n",
        "      story = []\n",
        "    #If we encountered a tab somewhere in line it means that the line contain the question and the answer based on the story so far \n",
        "    #and it also contain information like which line is relavent for answer\n",
        "    if \"\\t\" in line:\n",
        "      ques,ans,supporting = line.split('\\t')\n",
        "      ques = tokenize(ques)\n",
        "      #Numbering the lines adding unique tokens in front of each sentence\n",
        "      story_so_far = [[str(i)] + s for i, s in enumerate(story) if s]\n",
        "      #Now as we have the story so far the question and the answer we will append all this data in our data\n",
        "      q_a_c_data.append((story_so_far,ques,ans))\n",
        "      story.append(\"\")\n",
        "    else:\n",
        "      #If we dont have tab in our line what we gonna do is simply append the tokenized line to story list and do this until we get a line\n",
        "      #in which tab is there\n",
        "      story.append(tokenize(line))\n",
        "  return q_a_c_data"
      ],
      "execution_count": 0,
      "outputs": []
    },
    {
      "cell_type": "code",
      "metadata": {
        "id": "IceDJTlaHvCK",
        "colab_type": "code",
        "colab": {
          "base_uri": "https://localhost:8080/",
          "height": 53
        },
        "outputId": "0318b017-b841-4a86-c680-215be3c36c7f"
      },
      "source": [
        "data_all = get_stories(stories_train)"
      ],
      "execution_count": 11,
      "outputs": [
        {
          "output_type": "stream",
          "text": [
            "/usr/lib/python3.6/re.py:212: FutureWarning: split() requires a non-empty pattern match.\n",
            "  return _compile(pattern, flags).split(string, maxsplit)\n"
          ],
          "name": "stderr"
        }
      ]
    },
    {
      "cell_type": "markdown",
      "metadata": {
        "id": "cqYaTYTyI-ko",
        "colab_type": "text"
      },
      "source": [
        "This is what the data look like after appending the questions answers and the context in a q_a_c_data list\n",
        "\n",
        "There will be a two dimension list for the context sentences(which are tokenized), a tokenized list of the question and a string containing the answer in every story in our data"
      ]
    },
    {
      "cell_type": "markdown",
      "metadata": {
        "id": "DQ8sqwOlPrCv",
        "colab_type": "text"
      },
      "source": [
        "Now we are having our questions,answers and the context on which these question and answer are based"
      ]
    },
    {
      "cell_type": "markdown",
      "metadata": {
        "id": "WA_URhdNQ3ZM",
        "colab_type": "text"
      },
      "source": [
        "Recursively flattening as list and this function is really helpful in getting the vocabulary size from the data as our data contains various levels lists"
      ]
    },
    {
      "cell_type": "code",
      "metadata": {
        "id": "TvTPbEFUYaxx",
        "colab_type": "code",
        "colab": {}
      },
      "source": [
        "def should_flatten(el):\n",
        "  return not isinstance(el,(str,bytes))"
      ],
      "execution_count": 0,
      "outputs": []
    },
    {
      "cell_type": "code",
      "metadata": {
        "id": "7Ad0tPLnYv8m",
        "colab_type": "code",
        "colab": {}
      },
      "source": [
        "def flatten(l):\n",
        "  for el in l:\n",
        "    if should_flatten(el):\n",
        "      yield from flatten(el)\n",
        "    else:\n",
        "      yield el"
      ],
      "execution_count": 0,
      "outputs": []
    },
    {
      "cell_type": "markdown",
      "metadata": {
        "id": "WXT5FCZVRGPe",
        "colab_type": "text"
      },
      "source": [
        "THe below function is for vectorizing stories and here we will be vectorizing the data manually without using the tokenizer as our lists are really complicated in structure in this case"
      ]
    },
    {
      "cell_type": "code",
      "metadata": {
        "id": "0_zKUR6UZFnB",
        "colab_type": "code",
        "colab": {}
      },
      "source": [
        "def vectorizing_stories(data,word2idx,story_maxlen,query_maxlen):\n",
        "  inputs,queries,answers = [],[],[]\n",
        "  for story,query,answer in data:\n",
        "    #Converting the list of words into list of word indexes\n",
        "    #Vectorizing the story\n",
        "    inputs.append([[word2idx[w] for w in s]for s in story])\n",
        "    #Vectorizing the question(query)\n",
        "    queries.append([word2idx[w] for w in query])\n",
        "    #Vectorizing the answer\n",
        "    answers.append([word2idx[answer]])\n",
        "    #We are also returning the list of padded sequence insted of initial length sequence based upon story maxlen and query maxlen\n",
        "  return ([pad_sequences(x,maxlen = story_maxlen) for x in inputs],pad_sequences(queries,maxlen = query_maxlen),np.array(answers))"
      ],
      "execution_count": 0,
      "outputs": []
    },
    {
      "cell_type": "markdown",
      "metadata": {
        "id": "329PZ9ZZTw1C",
        "colab_type": "text"
      },
      "source": [
        "As earlier from the data we have seen that the stories in the data have different number of sentences so we also need to the pad the stories in such a way that we have same number of sentences in our stories and our all stories have same shape"
      ]
    },
    {
      "cell_type": "code",
      "metadata": {
        "id": "nuBAMa9Ra5EU",
        "colab_type": "code",
        "colab": {}
      },
      "source": [
        "def stack_inputs(inputs,story_maxsents,story_maxlen):\n",
        "  for i,story in enumerate(inputs):\n",
        "    #Here we will be going through all the stories and will pad them such that their shape will bw same as maximum length story\n",
        "    inputs[i] = np.concatenate([story,np.zeros((story_maxsents-story.shape[0],story_maxlen),\"int\")])\n",
        "  return np.stack(inputs)"
      ],
      "execution_count": 0,
      "outputs": []
    },
    {
      "cell_type": "markdown",
      "metadata": {
        "id": "L-Nih5gEUti2",
        "colab_type": "text"
      },
      "source": [
        "Now after running all the above function on the data what we will be having is som what good data which have all the stories of same size and all queries of same size "
      ]
    },
    {
      "cell_type": "code",
      "metadata": {
        "id": "1Dgxm7s3boOG",
        "colab_type": "code",
        "colab": {}
      },
      "source": [
        "def get_data(challenge_type):\n",
        "  #Using the challenge dictionary to get the data either single support or two support\n",
        "  challenge = challenges[challenge_type]\n",
        "  train_stories = get_stories(fl.extractfile(challenge.format(\"train\")))\n",
        "  test_stories = get_stories(fl.extractfile(challenge.format(\"test\")))\n",
        "  #Appending the train and test stories\n",
        "  stories = train_stories+test_stories\n",
        "  #Next we will be needing the maximum story length,maximum sentence length and maximum query length to pad the story and the queries\n",
        "  #Getting the max story word length(iterating over the stories)\n",
        "  story_maxlen = max((len(s) for x,_,_ in stories for s in x))\n",
        "  #Getting the max sentence number from all the stories\n",
        "  story_maxsents = max((len(x) for x,_,_ in stories))\n",
        "  #Getting the maximum query length\n",
        "  query_maxlen = max(len(x) for _,x,_ in stories)\n",
        "  #Getting the vocabulary using faltten function\n",
        "  vocab = sorted(set(flatten(stories)))\n",
        "  #Inserting the <PAD> token in vocabulary\n",
        "  vocab.insert(0,\"<PAD>\")\n",
        "  vocab_size = len(vocab)\n",
        "  word2idx = {c:i for i,c in enumerate(vocab)}\n",
        "  #Vectorizing the inputs(story,query and answers)\n",
        "  input_train,queries_train,answers_train = vectorizing_stories(train_stories,word2idx,story_maxlen,query_maxlen)\n",
        "  input_test,queries_test,answers_test = vectorizing_stories(test_stories,word2idx,story_maxlen,query_maxlen)\n",
        "  #Padding the stories(so that all have same length)\n",
        "  inputs_train = stack_inputs(input_train,story_maxsents,story_maxlen)\n",
        "  inputs_test = stack_inputs(input_test,story_maxsents,story_maxlen)\n",
        "  print(\"inputs_train.shape,inputs_test.shape\",inputs_train.shape,inputs_test.shape)\n",
        "  return train_stories,test_stories,inputs_train,queries_train,answers_train,inputs_test,queries_test,answers_test,story_maxsents,story_maxlen,query_maxlen,vocab,vocab_size"
      ],
      "execution_count": 0,
      "outputs": []
    },
    {
      "cell_type": "code",
      "metadata": {
        "id": "T4g9XHASfSuH",
        "colab_type": "code",
        "outputId": "7e3ffe68-dc0c-4c10-b7ed-74af68024fd5",
        "colab": {
          "base_uri": "https://localhost:8080/",
          "height": 71
        }
      },
      "source": [
        "import keras.backend as K\n",
        "from keras.preprocessing.sequence import pad_sequences\n",
        "train_stories,test_stories,inputs_train,queries_train,answers_train,inputs_test,queries_test,answers_test,story_maxsents,story_maxlen,query_maxlen,vocab,vocab_size = get_data(\"single_supporting_fact_10k\")"
      ],
      "execution_count": 17,
      "outputs": [
        {
          "output_type": "stream",
          "text": [
            "/usr/lib/python3.6/re.py:212: FutureWarning: split() requires a non-empty pattern match.\n",
            "  return _compile(pattern, flags).split(string, maxsplit)\n"
          ],
          "name": "stderr"
        },
        {
          "output_type": "stream",
          "text": [
            "inputs_train.shape,inputs_test.shape (10000, 10, 8) (1000, 10, 8)\n"
          ],
          "name": "stdout"
        }
      ]
    },
    {
      "cell_type": "code",
      "metadata": {
        "id": "OwhmxbB-YmQI",
        "colab_type": "code",
        "colab": {
          "base_uri": "https://localhost:8080/",
          "height": 737
        },
        "outputId": "acbb7c15-a295-4e45-8f4b-caf349c4d93d"
      },
      "source": [
        "#This is what our data looked like\n",
        "train_stories[0:5]"
      ],
      "execution_count": 18,
      "outputs": [
        {
          "output_type": "execute_result",
          "data": {
            "text/plain": [
              "[([['0', 'Mary', 'moved', 'to', 'the', 'bathroom', '.'],\n",
              "   ['1', 'John', 'went', 'to', 'the', 'hallway', '.']],\n",
              "  ['Where', 'is', 'Mary', '?'],\n",
              "  'bathroom'),\n",
              " ([['0', 'Mary', 'moved', 'to', 'the', 'bathroom', '.'],\n",
              "   ['1', 'John', 'went', 'to', 'the', 'hallway', '.'],\n",
              "   ['3', 'Daniel', 'went', 'back', 'to', 'the', 'hallway', '.'],\n",
              "   ['4', 'Sandra', 'moved', 'to', 'the', 'garden', '.']],\n",
              "  ['Where', 'is', 'Daniel', '?'],\n",
              "  'hallway'),\n",
              " ([['0', 'Mary', 'moved', 'to', 'the', 'bathroom', '.'],\n",
              "   ['1', 'John', 'went', 'to', 'the', 'hallway', '.'],\n",
              "   ['3', 'Daniel', 'went', 'back', 'to', 'the', 'hallway', '.'],\n",
              "   ['4', 'Sandra', 'moved', 'to', 'the', 'garden', '.'],\n",
              "   ['6', 'John', 'moved', 'to', 'the', 'office', '.'],\n",
              "   ['7', 'Sandra', 'journeyed', 'to', 'the', 'bathroom', '.']],\n",
              "  ['Where', 'is', 'Daniel', '?'],\n",
              "  'hallway'),\n",
              " ([['0', 'Mary', 'moved', 'to', 'the', 'bathroom', '.'],\n",
              "   ['1', 'John', 'went', 'to', 'the', 'hallway', '.'],\n",
              "   ['3', 'Daniel', 'went', 'back', 'to', 'the', 'hallway', '.'],\n",
              "   ['4', 'Sandra', 'moved', 'to', 'the', 'garden', '.'],\n",
              "   ['6', 'John', 'moved', 'to', 'the', 'office', '.'],\n",
              "   ['7', 'Sandra', 'journeyed', 'to', 'the', 'bathroom', '.'],\n",
              "   ['9', 'Mary', 'moved', 'to', 'the', 'hallway', '.'],\n",
              "   ['10', 'Daniel', 'travelled', 'to', 'the', 'office', '.']],\n",
              "  ['Where', 'is', 'Daniel', '?'],\n",
              "  'office'),\n",
              " ([['0', 'Mary', 'moved', 'to', 'the', 'bathroom', '.'],\n",
              "   ['1', 'John', 'went', 'to', 'the', 'hallway', '.'],\n",
              "   ['3', 'Daniel', 'went', 'back', 'to', 'the', 'hallway', '.'],\n",
              "   ['4', 'Sandra', 'moved', 'to', 'the', 'garden', '.'],\n",
              "   ['6', 'John', 'moved', 'to', 'the', 'office', '.'],\n",
              "   ['7', 'Sandra', 'journeyed', 'to', 'the', 'bathroom', '.'],\n",
              "   ['9', 'Mary', 'moved', 'to', 'the', 'hallway', '.'],\n",
              "   ['10', 'Daniel', 'travelled', 'to', 'the', 'office', '.'],\n",
              "   ['12', 'John', 'went', 'back', 'to', 'the', 'garden', '.'],\n",
              "   ['13', 'John', 'moved', 'to', 'the', 'bedroom', '.']],\n",
              "  ['Where', 'is', 'Sandra', '?'],\n",
              "  'bathroom')]"
            ]
          },
          "metadata": {
            "tags": []
          },
          "execution_count": 18
        }
      ]
    },
    {
      "cell_type": "code",
      "metadata": {
        "id": "KF_UJHT9ZQZ4",
        "colab_type": "code",
        "colab": {
          "base_uri": "https://localhost:8080/",
          "height": 989
        },
        "outputId": "148167c3-e06d-463c-cbd4-1b869de758f9"
      },
      "source": [
        "#This is what our stories look like after id imputation and padding etc\n",
        "inputs_train[0:5]"
      ],
      "execution_count": 19,
      "outputs": [
        {
          "output_type": "execute_result",
          "data": {
            "text/plain": [
              "array([[[ 0,  2, 15, 26, 29, 28, 19,  1],\n",
              "        [ 0,  3, 14, 31, 29, 28, 22,  1],\n",
              "        [ 0,  0,  0,  0,  0,  0,  0,  0],\n",
              "        [ 0,  0,  0,  0,  0,  0,  0,  0],\n",
              "        [ 0,  0,  0,  0,  0,  0,  0,  0],\n",
              "        [ 0,  0,  0,  0,  0,  0,  0,  0],\n",
              "        [ 0,  0,  0,  0,  0,  0,  0,  0],\n",
              "        [ 0,  0,  0,  0,  0,  0,  0,  0],\n",
              "        [ 0,  0,  0,  0,  0,  0,  0,  0],\n",
              "        [ 0,  0,  0,  0,  0,  0,  0,  0]],\n",
              "\n",
              "       [[ 0,  2, 15, 26, 29, 28, 19,  1],\n",
              "        [ 0,  3, 14, 31, 29, 28, 22,  1],\n",
              "        [ 7, 13, 31, 18, 29, 28, 22,  1],\n",
              "        [ 0,  8, 16, 26, 29, 28, 21,  1],\n",
              "        [ 0,  0,  0,  0,  0,  0,  0,  0],\n",
              "        [ 0,  0,  0,  0,  0,  0,  0,  0],\n",
              "        [ 0,  0,  0,  0,  0,  0,  0,  0],\n",
              "        [ 0,  0,  0,  0,  0,  0,  0,  0],\n",
              "        [ 0,  0,  0,  0,  0,  0,  0,  0],\n",
              "        [ 0,  0,  0,  0,  0,  0,  0,  0]],\n",
              "\n",
              "       [[ 0,  2, 15, 26, 29, 28, 19,  1],\n",
              "        [ 0,  3, 14, 31, 29, 28, 22,  1],\n",
              "        [ 7, 13, 31, 18, 29, 28, 22,  1],\n",
              "        [ 0,  8, 16, 26, 29, 28, 21,  1],\n",
              "        [ 0,  9, 14, 26, 29, 28, 27,  1],\n",
              "        [ 0, 10, 16, 24, 29, 28, 19,  1],\n",
              "        [ 0,  0,  0,  0,  0,  0,  0,  0],\n",
              "        [ 0,  0,  0,  0,  0,  0,  0,  0],\n",
              "        [ 0,  0,  0,  0,  0,  0,  0,  0],\n",
              "        [ 0,  0,  0,  0,  0,  0,  0,  0]],\n",
              "\n",
              "       [[ 0,  2, 15, 26, 29, 28, 19,  1],\n",
              "        [ 0,  3, 14, 31, 29, 28, 22,  1],\n",
              "        [ 7, 13, 31, 18, 29, 28, 22,  1],\n",
              "        [ 0,  8, 16, 26, 29, 28, 21,  1],\n",
              "        [ 0,  9, 14, 26, 29, 28, 27,  1],\n",
              "        [ 0, 10, 16, 24, 29, 28, 19,  1],\n",
              "        [ 0, 11, 15, 26, 29, 28, 22,  1],\n",
              "        [ 0,  4, 13, 30, 29, 28, 27,  1],\n",
              "        [ 0,  0,  0,  0,  0,  0,  0,  0],\n",
              "        [ 0,  0,  0,  0,  0,  0,  0,  0]],\n",
              "\n",
              "       [[ 0,  2, 15, 26, 29, 28, 19,  1],\n",
              "        [ 0,  3, 14, 31, 29, 28, 22,  1],\n",
              "        [ 7, 13, 31, 18, 29, 28, 22,  1],\n",
              "        [ 0,  8, 16, 26, 29, 28, 21,  1],\n",
              "        [ 0,  9, 14, 26, 29, 28, 27,  1],\n",
              "        [ 0, 10, 16, 24, 29, 28, 19,  1],\n",
              "        [ 0, 11, 15, 26, 29, 28, 22,  1],\n",
              "        [ 0,  4, 13, 30, 29, 28, 27,  1],\n",
              "        [ 5, 14, 31, 18, 29, 28, 21,  1],\n",
              "        [ 0,  6, 14, 26, 29, 28, 20,  1]]])"
            ]
          },
          "metadata": {
            "tags": []
          },
          "execution_count": 19
        }
      ]
    },
    {
      "cell_type": "code",
      "metadata": {
        "id": "0-8pFxiLZf8a",
        "colab_type": "code",
        "colab": {
          "base_uri": "https://localhost:8080/",
          "height": 107
        },
        "outputId": "57680a42-1904-4d39-a03e-51c338037913"
      },
      "source": [
        "#This is what our queries look like after id imputation and padding\n",
        "queries_train[0:5]"
      ],
      "execution_count": 20,
      "outputs": [
        {
          "output_type": "execute_result",
          "data": {
            "text/plain": [
              "array([[17, 23, 15, 12],\n",
              "       [17, 23, 13, 12],\n",
              "       [17, 23, 13, 12],\n",
              "       [17, 23, 13, 12],\n",
              "       [17, 23, 16, 12]], dtype=int32)"
            ]
          },
          "metadata": {
            "tags": []
          },
          "execution_count": 20
        }
      ]
    },
    {
      "cell_type": "code",
      "metadata": {
        "id": "ewRjQQYIZ116",
        "colab_type": "code",
        "colab": {
          "base_uri": "https://localhost:8080/",
          "height": 107
        },
        "outputId": "55f64914-aeb1-425d-ad67-cc7b5ee3a02f"
      },
      "source": [
        "#This is what our answers look like after id imputation and padding\n",
        "answers_train[0:5]"
      ],
      "execution_count": 21,
      "outputs": [
        {
          "output_type": "execute_result",
          "data": {
            "text/plain": [
              "array([[19],\n",
              "       [22],\n",
              "       [22],\n",
              "       [27],\n",
              "       [19]])"
            ]
          },
          "metadata": {
            "tags": []
          },
          "execution_count": 21
        }
      ]
    },
    {
      "cell_type": "code",
      "metadata": {
        "id": "3EePW5Z4aVDY",
        "colab_type": "code",
        "colab": {
          "base_uri": "https://localhost:8080/",
          "height": 35
        },
        "outputId": "7c552017-124e-4195-cf93-338a04607724"
      },
      "source": [
        "print(story_maxlen)"
      ],
      "execution_count": 22,
      "outputs": [
        {
          "output_type": "stream",
          "text": [
            "8\n"
          ],
          "name": "stdout"
        }
      ]
    },
    {
      "cell_type": "code",
      "metadata": {
        "id": "s9ni6xkhaX36",
        "colab_type": "code",
        "colab": {
          "base_uri": "https://localhost:8080/",
          "height": 35
        },
        "outputId": "8f8fd1f2-2d7b-4260-9182-6ae6ebf9160b"
      },
      "source": [
        "print(story_maxsents)"
      ],
      "execution_count": 23,
      "outputs": [
        {
          "output_type": "stream",
          "text": [
            "10\n"
          ],
          "name": "stdout"
        }
      ]
    },
    {
      "cell_type": "markdown",
      "metadata": {
        "id": "vx0voaLmXGLc",
        "colab_type": "text"
      },
      "source": [
        "Now we are done with formatting our data in such a way that it has format similar to the one which we can feed to the model"
      ]
    },
    {
      "cell_type": "code",
      "metadata": {
        "id": "VKdJiSPYviE3",
        "colab_type": "code",
        "colab": {}
      },
      "source": [
        "from keras.models import Model\n",
        "from keras.layers import Dense, Embedding, Input, Lambda, Reshape, add, dot, Activation\n",
        "from keras.optimizers import Adam, RMSprop"
      ],
      "execution_count": 0,
      "outputs": []
    },
    {
      "cell_type": "markdown",
      "metadata": {
        "id": "xiLM3rqAYK2M",
        "colab_type": "text"
      },
      "source": [
        "Here we will not be using pretrained embeddings and we will allow the embedding\n",
        " learn so that it can catch the relation in story and the question to give the answer "
      ]
    },
    {
      "cell_type": "markdown",
      "metadata": {
        "id": "boRmfQS8b7qs",
        "colab_type": "text"
      },
      "source": [
        "Creating the embedding matrix for both story and the queries"
      ]
    },
    {
      "cell_type": "code",
      "metadata": {
        "id": "gK_tXJvovaMB",
        "colab_type": "code",
        "outputId": "f8e0ed66-9da0-4c03-b85f-80dd5fc24d30",
        "colab": {
          "base_uri": "https://localhost:8080/",
          "height": 35
        }
      },
      "source": [
        "Embedding_dim = 40\n",
        "input_story = Input((story_maxsents, story_maxlen))\n",
        "embedded_story = Embedding(vocab_size, Embedding_dim)(input_story)\n",
        "embedded_story = Lambda(lambda x: K.sum(x, axis=2))(embedded_story)\n",
        "print(\"Shape of input stories,Shape of embedded stories\",input_story.shape,embedded_story.shape)"
      ],
      "execution_count": 25,
      "outputs": [
        {
          "output_type": "stream",
          "text": [
            "Shape of input stories,Shape of embedded stories (None, 10, 8) (None, 10, 40)\n"
          ],
          "name": "stdout"
        }
      ]
    },
    {
      "cell_type": "code",
      "metadata": {
        "id": "KWqU5Q0dvpd2",
        "colab_type": "code",
        "colab": {
          "base_uri": "https://localhost:8080/",
          "height": 35
        },
        "outputId": "bbd0fca1-652d-41e0-dfe5-b166f57d64d1"
      },
      "source": [
        "input_question = Input((query_maxlen,))\n",
        "embedded_question = Embedding(vocab_size,Embedding_dim)(input_question)\n",
        "embedded_question = Lambda(lambda x: K.sum(x, axis=1))(embedded_question)\n",
        "embedded_question = Reshape((1, Embedding_dim))(embedded_question)\n",
        "print(\"Shape of input queries,Shape of embedded queries\",input_question.shape,embedded_story.shape)"
      ],
      "execution_count": 26,
      "outputs": [
        {
          "output_type": "stream",
          "text": [
            "Shape of input queries,Shape of embedded queries (None, 4) (None, 10, 40)\n"
          ],
          "name": "stdout"
        }
      ]
    },
    {
      "cell_type": "markdown",
      "metadata": {
        "id": "J52ED77WcvSw",
        "colab_type": "text"
      },
      "source": [
        "Our embedded stories will have a shape of (Vocab_size,max_sents,Embedding_dim)\n",
        "\n",
        "Our embedded queries will have a shape of (Vocab_size,1,Embedding_dim)"
      ]
    },
    {
      "cell_type": "code",
      "metadata": {
        "id": "bbNzp_m0v0DN",
        "colab_type": "code",
        "outputId": "882897cb-56ce-48d9-ddd2-2c25457382d1",
        "colab": {
          "base_uri": "https://localhost:8080/",
          "height": 35
        }
      },
      "source": [
        "#Getting the dot product of embedded story and the embedded query\n",
        "x = dot([embedded_story, embedded_question], 2)\n",
        "x.shape\n",
        "#What we gonna have will be a matrix of shape (10,1) for each story,question pair after their dot product"
      ],
      "execution_count": 27,
      "outputs": [
        {
          "output_type": "execute_result",
          "data": {
            "text/plain": [
              "TensorShape([None, 10, 1])"
            ]
          },
          "metadata": {
            "tags": []
          },
          "execution_count": 27
        }
      ]
    },
    {
      "cell_type": "code",
      "metadata": {
        "id": "2Q3ON0iGdh7x",
        "colab_type": "code",
        "colab": {}
      },
      "source": [
        " #Flattening the vector\n",
        "x = Reshape((story_maxsents,))(x)"
      ],
      "execution_count": 0,
      "outputs": []
    },
    {
      "cell_type": "code",
      "metadata": {
        "id": "J8hx1AsFeEqT",
        "colab_type": "code",
        "colab": {
          "base_uri": "https://localhost:8080/",
          "height": 35
        },
        "outputId": "4aa7c03e-db0a-454b-b361-de4b276487ab"
      },
      "source": [
        "x = Activation('softmax')(x)\n",
        "#Unflattening it again to be dotted later\n",
        "story_weights = Reshape((story_maxsents, 1))(x)\n",
        "print(\"story_weights.shape:\", story_weights.shape)"
      ],
      "execution_count": 29,
      "outputs": [
        {
          "output_type": "stream",
          "text": [
            "story_weights.shape: (None, 10, 1)\n"
          ],
          "name": "stdout"
        }
      ]
    },
    {
      "cell_type": "code",
      "metadata": {
        "id": "ehXmZyHyv2mI",
        "colab_type": "code",
        "colab": {}
      },
      "source": [
        "x = dot([story_weights, embedded_story], 1)\n",
        "x = Reshape((Embedding_dim,))(x)\n",
        "ans = Dense(vocab_size, activation='softmax')(x)"
      ],
      "execution_count": 0,
      "outputs": []
    },
    {
      "cell_type": "code",
      "metadata": {
        "id": "b8D8Z5AZv6IN",
        "colab_type": "code",
        "colab": {}
      },
      "source": [
        "model = Model([input_story, input_question], ans)"
      ],
      "execution_count": 0,
      "outputs": []
    },
    {
      "cell_type": "code",
      "metadata": {
        "id": "zou_kSNqv-dt",
        "colab_type": "code",
        "colab": {}
      },
      "source": [
        "model.compile(optimizer=RMSprop(lr=1e-2),loss='sparse_categorical_crossentropy',metrics=['accuracy'])"
      ],
      "execution_count": 0,
      "outputs": []
    },
    {
      "cell_type": "code",
      "metadata": {
        "id": "fK2SKaolwEKW",
        "colab_type": "code",
        "outputId": "ea50df0d-a6d2-40c5-e6b4-79eb91d29e87",
        "colab": {
          "base_uri": "https://localhost:8080/",
          "height": 811
        }
      },
      "source": [
        "# train the model\n",
        "ht = model.fit([inputs_train, queries_train],answers_train,epochs=20,batch_size=32,validation_data=([inputs_test, queries_test], answers_test))"
      ],
      "execution_count": 33,
      "outputs": [
        {
          "output_type": "stream",
          "text": [
            "/usr/local/lib/python3.6/dist-packages/tensorflow/python/framework/indexed_slices.py:434: UserWarning: Converting sparse IndexedSlices to a dense Tensor of unknown shape. This may consume a large amount of memory.\n",
            "  \"Converting sparse IndexedSlices to a dense Tensor of unknown shape. \"\n"
          ],
          "name": "stderr"
        },
        {
          "output_type": "stream",
          "text": [
            "Train on 10000 samples, validate on 1000 samples\n",
            "Epoch 1/20\n",
            "10000/10000 [==============================] - 1s 74us/step - loss: 0.4278 - accuracy: 0.8482 - val_loss: 0.0289 - val_accuracy: 0.9890\n",
            "Epoch 2/20\n",
            "10000/10000 [==============================] - 1s 58us/step - loss: 0.0232 - accuracy: 0.9931 - val_loss: 1.4917e-04 - val_accuracy: 1.0000\n",
            "Epoch 3/20\n",
            "10000/10000 [==============================] - 1s 58us/step - loss: 1.4475e-05 - accuracy: 1.0000 - val_loss: 1.0729e-09 - val_accuracy: 1.0000\n",
            "Epoch 4/20\n",
            "10000/10000 [==============================] - 1s 56us/step - loss: 1.5497e-10 - accuracy: 1.0000 - val_loss: 0.0000e+00 - val_accuracy: 1.0000\n",
            "Epoch 5/20\n",
            "10000/10000 [==============================] - 1s 59us/step - loss: 0.0000e+00 - accuracy: 1.0000 - val_loss: 0.0000e+00 - val_accuracy: 1.0000\n",
            "Epoch 6/20\n",
            "10000/10000 [==============================] - 1s 59us/step - loss: 0.0000e+00 - accuracy: 1.0000 - val_loss: 0.0000e+00 - val_accuracy: 1.0000\n",
            "Epoch 7/20\n",
            "10000/10000 [==============================] - 1s 55us/step - loss: 0.0000e+00 - accuracy: 1.0000 - val_loss: 0.0000e+00 - val_accuracy: 1.0000\n",
            "Epoch 8/20\n",
            "10000/10000 [==============================] - 1s 53us/step - loss: 0.0000e+00 - accuracy: 1.0000 - val_loss: 0.0000e+00 - val_accuracy: 1.0000\n",
            "Epoch 9/20\n",
            "10000/10000 [==============================] - 1s 56us/step - loss: 0.0000e+00 - accuracy: 1.0000 - val_loss: 0.0000e+00 - val_accuracy: 1.0000\n",
            "Epoch 10/20\n",
            "10000/10000 [==============================] - 1s 54us/step - loss: 0.0000e+00 - accuracy: 1.0000 - val_loss: 0.0000e+00 - val_accuracy: 1.0000\n",
            "Epoch 11/20\n",
            "10000/10000 [==============================] - 1s 55us/step - loss: 0.0000e+00 - accuracy: 1.0000 - val_loss: 0.0000e+00 - val_accuracy: 1.0000\n",
            "Epoch 12/20\n",
            "10000/10000 [==============================] - 1s 53us/step - loss: 0.0000e+00 - accuracy: 1.0000 - val_loss: 0.0000e+00 - val_accuracy: 1.0000\n",
            "Epoch 13/20\n",
            "10000/10000 [==============================] - 1s 54us/step - loss: 0.0000e+00 - accuracy: 1.0000 - val_loss: 0.0000e+00 - val_accuracy: 1.0000\n",
            "Epoch 14/20\n",
            "10000/10000 [==============================] - 1s 54us/step - loss: 0.0000e+00 - accuracy: 1.0000 - val_loss: 0.0000e+00 - val_accuracy: 1.0000\n",
            "Epoch 15/20\n",
            "10000/10000 [==============================] - 1s 54us/step - loss: 0.0000e+00 - accuracy: 1.0000 - val_loss: 0.0000e+00 - val_accuracy: 1.0000\n",
            "Epoch 16/20\n",
            "10000/10000 [==============================] - 1s 55us/step - loss: 0.0000e+00 - accuracy: 1.0000 - val_loss: 0.0000e+00 - val_accuracy: 1.0000\n",
            "Epoch 17/20\n",
            "10000/10000 [==============================] - 1s 53us/step - loss: 0.0000e+00 - accuracy: 1.0000 - val_loss: 0.0000e+00 - val_accuracy: 1.0000\n",
            "Epoch 18/20\n",
            "10000/10000 [==============================] - 1s 57us/step - loss: 0.0000e+00 - accuracy: 1.0000 - val_loss: 0.0000e+00 - val_accuracy: 1.0000\n",
            "Epoch 19/20\n",
            "10000/10000 [==============================] - 1s 59us/step - loss: 0.0000e+00 - accuracy: 1.0000 - val_loss: 0.0000e+00 - val_accuracy: 1.0000\n",
            "Epoch 20/20\n",
            "10000/10000 [==============================] - 1s 55us/step - loss: 0.0000e+00 - accuracy: 1.0000 - val_loss: 0.0000e+00 - val_accuracy: 1.0000\n"
          ],
          "name": "stdout"
        }
      ]
    },
    {
      "cell_type": "markdown",
      "metadata": {
        "id": "vgWXZM3vftFY",
        "colab_type": "text"
      },
      "source": [
        "Plotting the model curves"
      ]
    },
    {
      "cell_type": "code",
      "metadata": {
        "id": "nj-nspQwfrUw",
        "colab_type": "code",
        "colab": {
          "base_uri": "https://localhost:8080/",
          "height": 265
        },
        "outputId": "67db167e-2159-4532-dc3c-f97d9e4cbba0"
      },
      "source": [
        "plt.plot(ht.history[\"loss\"],label = \"loss\")\n",
        "plt.plot(ht.history[\"val_loss\"],label = \"val_loss\")\n",
        "plt.legend()\n",
        "plt.show()"
      ],
      "execution_count": 34,
      "outputs": [
        {
          "output_type": "display_data",
          "data": {
            "image/png": "[encoded data removed]",
            "text/plain": [
              "<Figure size 432x288 with 1 Axes>"
            ]
          },
          "metadata": {
            "tags": [],
            "needs_background": "light"
          }
        }
      ]
    },
    {
      "cell_type": "code",
      "metadata": {
        "id": "DlwvU7V7gJQ0",
        "colab_type": "code",
        "colab": {
          "base_uri": "https://localhost:8080/",
          "height": 265
        },
        "outputId": "5a0fd792-0385-4444-d55a-b3f02ad3069a"
      },
      "source": [
        "plt.plot(ht.history[\"accuracy\"],label = \"accuracy\")\n",
        "plt.plot(ht.history[\"val_accuracy\"],label = \"val_accuracy\")\n",
        "plt.legend()\n",
        "plt.show()"
      ],
      "execution_count": 35,
      "outputs": [
        {
          "output_type": "display_data",
          "data": {
            "image/png": "[encoded data removed]",
            "text/plain": [
              "<Figure size 432x288 with 1 Axes>"
            ]
          },
          "metadata": {
            "tags": [],
            "needs_background": "light"
          }
        }
      ]
    },
    {
      "cell_type": "code",
      "metadata": {
        "id": "K4Y1GrzHwufG",
        "colab_type": "code",
        "colab": {}
      },
      "source": [
        "#Checking how we weight each input sentence given a story and question\n",
        "debugging_model = Model([input_story, input_question], story_weights)"
      ],
      "execution_count": 0,
      "outputs": []
    },
    {
      "cell_type": "code",
      "metadata": {
        "id": "niktGW-Twyji",
        "colab_type": "code",
        "colab": {}
      },
      "source": [
        "#Choosing a random story for all\n",
        "story_idx = np.random.choice(len(train_stories))"
      ],
      "execution_count": 0,
      "outputs": []
    },
    {
      "cell_type": "code",
      "metadata": {
        "id": "OIQzEocMwz8c",
        "colab_type": "code",
        "colab": {}
      },
      "source": [
        "#Getting the weights from debug model\n",
        "i = inputs_train[story_idx:story_idx+1]\n",
        "q = queries_train[story_idx:story_idx+1]\n",
        "w = debugging_model.predict([i, q]).flatten()"
      ],
      "execution_count": 0,
      "outputs": []
    },
    {
      "cell_type": "code",
      "metadata": {
        "id": "kn7vgpdpw6Ix",
        "colab_type": "code",
        "outputId": "dec0307e-76c4-40bd-9a4c-48dd7e04c4ba",
        "colab": {
          "base_uri": "https://localhost:8080/",
          "height": 161
        }
      },
      "source": [
        "story, question, ans = train_stories[story_idx]\n",
        "print(\"story is:\\n\")\n",
        "for i, line in enumerate(story):\n",
        "  print(\"{:1.10f}\".format(w[i]), \"\\t\", \" \".join(line))\n",
        "\n",
        "print(\"question:\", \" \".join(question))\n",
        "print(\"answer:\", ans)"
      ],
      "execution_count": 39,
      "outputs": [
        {
          "output_type": "stream",
          "text": [
            "story is:\n",
            "\n",
            "0.0005270375 \t 0 John went back to the kitchen .\n",
            "0.0000000040 \t 1 Mary travelled to the garden .\n",
            "0.9994688630 \t 3 John journeyed to the hallway .\n",
            "0.0000041079 \t 4 Sandra moved to the bathroom .\n",
            "question: Where is John ?\n",
            "answer: hallway\n"
          ],
          "name": "stdout"
        }
      ]
    }
  ]
}